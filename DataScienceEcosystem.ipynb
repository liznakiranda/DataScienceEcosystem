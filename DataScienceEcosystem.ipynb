{
 "cells": [
  {
   "cell_type": "markdown",
   "id": "9a4880c9-20b2-4c06-9600-37b1d3f6b808",
   "metadata": {},
   "source": [
    "# Data Science Tools and Ecosystem"
   ]
  },
  {
   "cell_type": "markdown",
   "id": "6404b8b0-c126-439f-b311-0af3c991e95e",
   "metadata": {},
   "source": [
    "In this notebook, Data Science Tools and Ecosystem are summarized."
   ]
  },
  {
   "cell_type": "markdown",
   "id": "6e5f316a-efd3-428b-9df8-190ac62041d4",
   "metadata": {},
   "source": [
    "Some of the popular languages that Data Scientists use are:\n",
    "<ol>\n",
    "<li>Python</li>\n",
    "<li>R</li>\n",
    "<li>Java</li>\n",
    "<li>Scala</li>\n",
    "</ol>"
   ]
  },
  {
   "cell_type": "markdown",
   "id": "a7402840-cb1d-43ae-b506-49a44729105b",
   "metadata": {},
   "source": [
    "Some of the commonly used libraries used by Data Scientists include:\n",
    "<ol>\n",
    "<li>Pandas</li>\n",
    "<li>NumPy</li>\n",
    "<li>Matplotlib</li>\n",
    "<li>Seaborn</li>\n",
    "</ol>"
   ]
  },
  {
   "cell_type": "markdown",
   "id": "38cb8fa5-7fb0-4c6d-8033-f7b7ce7161b1",
   "metadata": {
    "tags": []
   },
   "source": [
    "<table>\n",
    "<tr><th> Data Science Tools</th></tr>\n",
    "    <tr><td>RStudio</td><tr>\n",
    "    <tr><td>ApacheSpark</td></tr>\n",
    "    <tr><td>TensorFlow</td></tr>\n",
    "</table>\n"
   ]
  },
  {
   "cell_type": "markdown",
   "id": "f4efe599-5902-4381-9f74-bf5f0a6ee487",
   "metadata": {},
   "source": [
    "### Below are a few examples of evaluating arithmetic expressions in Python"
   ]
  },
  {
   "cell_type": "code",
   "execution_count": 4,
   "id": "5394e044-5f16-41f4-bf19-5e9633e0024a",
   "metadata": {
    "tags": []
   },
   "outputs": [
    {
     "data": {
      "text/plain": [
       "17"
      ]
     },
     "execution_count": 4,
     "metadata": {},
     "output_type": "execute_result"
    }
   ],
   "source": [
    "#This a simple arithmetic expression to mutiply then add integers\n",
    "(3*4)+5"
   ]
  },
  {
   "cell_type": "code",
   "execution_count": 5,
   "id": "cc138163-f9af-4120-ba6a-1f2e6864d8ed",
   "metadata": {
    "tags": []
   },
   "outputs": [
    {
     "data": {
      "text/plain": [
       "3.3333333333333335"
      ]
     },
     "execution_count": 5,
     "metadata": {},
     "output_type": "execute_result"
    }
   ],
   "source": [
    "#This will convert 200 minutes to hours by diving by 60\n",
    "200/60"
   ]
  },
  {
   "cell_type": "markdown",
   "id": "77dce16a-f105-4830-9edf-7241aa083f64",
   "metadata": {},
   "source": [
    "**Objectives:**\n",
    "    * popular languages that Data Scientists\n",
    "    * commonly used libraries used by Data Scientists\n",
    "    * arithmetic expressions in python\n",
    "    * Data Science tools"
   ]
  },
  {
   "cell_type": "markdown",
   "id": "1536e03c-f0f2-4d2f-8a05-3bfc6fc0bbe6",
   "metadata": {},
   "source": [
    "## Author\n",
    "Elizabeth Nakiranda"
   ]
  }
 ],
 "metadata": {
  "kernelspec": {
   "display_name": "Python",
   "language": "python",
   "name": "conda-env-python-py"
  },
  "language_info": {
   "codemirror_mode": {
    "name": "ipython",
    "version": 3
   },
   "file_extension": ".py",
   "mimetype": "text/x-python",
   "name": "python",
   "nbconvert_exporter": "python",
   "pygments_lexer": "ipython3",
   "version": "3.7.12"
  }
 },
 "nbformat": 4,
 "nbformat_minor": 5
}
